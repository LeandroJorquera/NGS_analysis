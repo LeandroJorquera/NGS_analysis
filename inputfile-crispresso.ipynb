{
 "cells": [
  {
   "cell_type": "code",
   "execution_count": 1,
   "id": "898689ce-e4fc-421c-b6d6-8547a31cae8e",
   "metadata": {},
   "outputs": [],
   "source": [
    "import os\n",
    "import pandas as pd\n",
    "import fnmatch\n",
    "import re"
   ]
  },
  {
   "cell_type": "code",
   "execution_count": 2,
   "id": "b9cdcdcb-7538-4602-882e-656761d52700",
   "metadata": {},
   "outputs": [],
   "source": [
    "path_data = '/Users/leandro/Desktop/github/NGS-data/dec-OOF/merged'\n",
    "path_file = '/Users/leandro/Desktop/github/NGS-data/dec-OOF/merged/input-file'"
   ]
  },
  {
   "cell_type": "code",
   "execution_count": 23,
   "id": "0a29ce12-d7bb-466c-b596-cfadfc92eb11",
   "metadata": {},
   "outputs": [],
   "source": [
    "#-- Loop for creating file names and abbreviations\n",
    "list_fastq = []\n",
    "list_fastq2 = []\n",
    "list_name = []\n",
    "\n",
    "for file in os.listdir(path_data):\n",
    "    #only fastq.gz files and generate abbreviated names\n",
    "    if file.endswith(\".fastq.gz\"):\n",
    "        if fnmatch.fnmatch(file,\"*R1*\"):\n",
    "            list_fastq.append(file)\n",
    "        elif fnmatch.fnmatch(file,\"*R2*\"):\n",
    "            list_fastq2.append(file)\n",
    "        short = re.split(\"[_S]\", file)[0]\n",
    "        list_name.append(short)\n",
    "#-- Remove duplicates from name list and order all lists\n",
    "names = []\n",
    "for i in list_name:\n",
    "    if i not in names:\n",
    "        names.append((i))\n",
    "names.sort()\n",
    "list_fastq.sort()\n",
    "list_fastq2.sort()"
   ]
  },
  {
   "cell_type": "code",
   "execution_count": 3,
   "id": "16c43346-9481-4e91-85fa-cde5dbd62d17",
   "metadata": {},
   "outputs": [],
   "source": [
    "#-- Loop for creating file names and abbreviations (merged files)\n",
    "list_fastq = []\n",
    "list_name = []\n",
    "\n",
    "for file in os.listdir(path_data):\n",
    "    #only fastq files and generate abbreviated names\n",
    "    if file.endswith(\".fastq\"):\n",
    "        list_fastq.append(file)\n",
    "        short = re.split(\"[_S]\", file)[0]\n",
    "        list_name.append(short)\n",
    "#-- Remove duplicates from name list and order all lists\n",
    "names = []\n",
    "for i in list_name:\n",
    "    if i not in names:\n",
    "        names.append((i))\n",
    "names.sort()\n",
    "list_fastq.sort()"
   ]
  },
  {
   "cell_type": "code",
   "execution_count": 7,
   "id": "50bdfa82-a8be-427a-913e-1812e87ef17a",
   "metadata": {},
   "outputs": [],
   "source": [
    "#--Including results into dataframe\n",
    "df = pd.DataFrame({'names':names, 'fastq_r1':list_fastq})\n",
    "df\n",
    "\n",
    "#--saving the file\n",
    "df_final = df\n",
    "df_final.to_csv(path_file, sep=\"\\t\", index=False)"
   ]
  },
  {
   "cell_type": "code",
   "execution_count": 11,
   "id": "b1d64fd1-7365-43b6-919c-9b35dbf97b47",
   "metadata": {},
   "outputs": [],
   "source": [
    "#-- Generate_crispresso_script.py\n",
    "\n",
    "def generate_crispresso_prime_editing_script(output_path, params):\n",
    "    \"\"\"\n",
    "    Generates a bash script for CRISPRessoBatch with user-defined parameters.\n",
    "    \n",
    "    :param output_path: Path to save the bash script (e.g. \"./run_crispresso.sh\")\n",
    "    :param params: Dictionary of CRISPRessoBatch parameters\n",
    "    \"\"\"\n",
    "    with open(output_path, \"w\") as f:\n",
    "        f.write(\"#!/bin/bash\\n\\n\")\n",
    "        f.write(\"# Auto-generated script to run CRISPRessoBatch\\n\")\n",
    "        f.write(\"CRISPRessoBatch \\\\\\n\")\n",
    "        \n",
    "        for key, value in params.items():\n",
    "            f.write(f\"    --{key} \\\"{value}\\\" \\\\\\n\")\n",
    "        \n",
    "        f.write(\"\\n\")\n",
    "    \n",
    "    print(f\"Bash script generated at: {output_path}\")"
   ]
  },
  {
   "cell_type": "code",
   "execution_count": 14,
   "id": "03f9fd8d-fab9-495f-ac41-fdba610b5461",
   "metadata": {},
   "outputs": [
    {
     "name": "stdout",
     "output_type": "stream",
     "text": [
      "Bash script generated at: run_crispresso_prime.sh\n"
     ]
    }
   ],
   "source": [
    "# Example usage\n",
    "if __name__ == \"__main__\":\n",
    "    parameters = {\n",
    "        \"batch_input\": \"/Users/leandro/Desktop/github/NGS-data/dec-OOF/merged/input-file\", # Include input-file path\n",
    "        \"output_folder\": \"/Users/leandro/Desktop/github/NGS-data/dec-OOF/merged/run_crispresso_prime.sh\", # Include output bash file path\n",
    "        \"amplicon_seq\": \"GAAACGCCCATGCAATTAGTCTATTTCTGCTGCAAGTAAGCATGCATTTGTAGGCTTGATGCTTTTTTTCTGCTTCTCCAGCCCTGGCCTGGGTCAATCCTTGGGGCCCAGACTGAGCACGTGATGGCAGAGGAAAGGAAGCCCTGCTTCCTCCAGAGGGCGTCGCAGGACAGCTTTTCCTAGACAGGGGCTAGTATGTGCAGCTCCTGCACCGGGATACTGGTTGACAAGTTTGGCTGGGCTGGAAGCCAGCACCTAGGGAGGTCCCTGGAAGGGGCCAGCCTCACCAGGAGAGGAGGGACCTGGCCCTTCAGGGTCGAGCTCA\",\n",
    "        \"prime_editing_override_prime_edited_ref_seq\": \"GAAACGCCCATGCAATTAGTCTATTTCTGCTGCAAGTAAGCATGCATTTGTAGGCTTGATGCTTTTTTTCTGCTTCTCCAGCCCTGGCCTGGGTCAATCCTTGGGGCCCAGACTGAGCACGcttgTGATGGCAGAGGAAAGGAAGCCCTGCTTCCTCCAGAGGGCGTCGCAGGACAGCTTTTCCTAGACAGGGGCTAGTATGTGCAGCTCCTGCACCGGGATACTGGTTGACAAGTTTGGCTGGGCTGGAAGCCAGCACCTAGGGAGGTCCCTGGAAGGGGCCAGCCTCACCAGGAGAGGAGGGACCTGGCCCTTCAGGGTCGAGCTCA\", # edited sequence\n",
    "        \"prime_editing_pegRNA_extension_seq\": \"TCTGCCATCAcaagCGTGCTCAGTCTG\",  # pegRNA extension\n",
    "        \"prime_editing_pegRNA_scaffold_seq\": \"GTTTTAGAGCTAGGCCAACATGAGGATCACCCATGTCTGCAGGGCCTAGCAAGTTAAAATAAGGCTAGTCCGTTATCACGCCGAAAGGCGGGCACCGAGTCGGTGC\",  # scaffold\n",
    "        \"prime_editing_nicking_guide_seq\": \"\",  # nicking sgRNA\n",
    "        \"name\": \"TLROOF-Dec2024\",\n",
    "        \"quantification_window_center\": \"-1\",  # Often shifted for prime editing\n",
    "        \"quantification_window_size\": \"5\",\n",
    "        \"min_reads_to_use_region\": \"100\"\n",
    "    }\n",
    "\n",
    "    generate_crispresso_prime_editing_script(\"run_crispresso_prime.sh\", parameters)"
   ]
  }
 ],
 "metadata": {
  "kernelspec": {
   "display_name": "Python 3 (ipykernel)",
   "language": "python",
   "name": "python3"
  },
  "language_info": {
   "codemirror_mode": {
    "name": "ipython",
    "version": 3
   },
   "file_extension": ".py",
   "mimetype": "text/x-python",
   "name": "python",
   "nbconvert_exporter": "python",
   "pygments_lexer": "ipython3",
   "version": "3.12.2"
  }
 },
 "nbformat": 4,
 "nbformat_minor": 5
}
