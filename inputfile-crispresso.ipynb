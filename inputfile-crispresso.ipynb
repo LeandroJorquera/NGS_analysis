{
 "cells": [
  {
   "cell_type": "code",
   "execution_count": 1,
   "id": "898689ce-e4fc-421c-b6d6-8547a31cae8e",
   "metadata": {},
   "outputs": [],
   "source": [
    "import os\n",
    "import pandas as pd\n",
    "import fnmatch\n",
    "import re"
   ]
  },
  {
   "cell_type": "code",
   "execution_count": 13,
   "id": "b9cdcdcb-7538-4602-882e-656761d52700",
   "metadata": {},
   "outputs": [],
   "source": [
    "path_data = '/Users/leandro/Desktop/github/NGS-data/dec-OOF/round2/merged'\n",
    "path_file = '/Users/leandro/Desktop/github/NGS-data/dec-OOF/round2/merged/crispresso.batch'"
   ]
  },
  {
   "cell_type": "code",
   "execution_count": 12,
   "id": "0a29ce12-d7bb-466c-b596-cfadfc92eb11",
   "metadata": {},
   "outputs": [],
   "source": [
    "#-- Loop for creating file names and abbreviations\n",
    "list_fastq = []\n",
    "list_fastq2 = []\n",
    "list_name = []\n",
    "\n",
    "for file in os.listdir(path_data):\n",
    "    #only fastq.gz files and generate abbreviated names\n",
    "    if file.endswith(\".fastq.gz\"):\n",
    "        if fnmatch.fnmatch(file,\"*R1*\"):\n",
    "            list_fastq.append(file)\n",
    "        elif fnmatch.fnmatch(file,\"*R2*\"):\n",
    "            list_fastq2.append(file)\n",
    "        short = re.split(\"[_S]\", file)[0]\n",
    "        list_name.append(short)\n",
    "#-- Remove duplicates from name list and order all lists\n",
    "names = []\n",
    "for i in list_name:\n",
    "    if i not in names:\n",
    "        names.append((i))\n",
    "names.sort()\n",
    "list_fastq.sort()\n",
    "list_fastq2.sort()"
   ]
  },
  {
   "cell_type": "code",
   "execution_count": 14,
   "id": "16c43346-9481-4e91-85fa-cde5dbd62d17",
   "metadata": {},
   "outputs": [],
   "source": [
    "#-- Loop for creating file names and abbreviations (merged files)\n",
    "list_fastq = []\n",
    "list_name = []\n",
    "\n",
    "for file in os.listdir(path_data):\n",
    "    #only fastq files and generate abbreviated names\n",
    "    if file.endswith(\".fastq.gz\"):\n",
    "        list_fastq.append(file)\n",
    "        short = re.split(\"[_S]\", file)[0]\n",
    "        list_name.append(short)\n",
    "#-- Remove duplicates from name list and order all lists\n",
    "names = []\n",
    "for i in list_name:\n",
    "    if i not in names:\n",
    "        names.append((i))\n",
    "names.sort()\n",
    "list_fastq.sort()"
   ]
  },
  {
   "cell_type": "code",
   "execution_count": 15,
   "id": "25f59f1a-3944-41ec-9bae-66d21be58f47",
   "metadata": {},
   "outputs": [
    {
     "data": {
      "text/plain": [
       "['dec-OOF-1_S1_L001.merged.fastq.gz',\n",
       " 'dec-OOF-2_S2_L001.merged.fastq.gz',\n",
       " 'dec-OOF-3_S3_L001.merged.fastq.gz',\n",
       " 'dec-OOF-4_S4_L001.merged.fastq.gz',\n",
       " 'dec-OOF-5_S5_L001.merged.fastq.gz',\n",
       " 'dec-OOF-7_S6_L001.merged.fastq.gz',\n",
       " 'dec-OOF-8_S7_L001.merged.fastq.gz',\n",
       " 'dec-OOF-9_S8_L001.merged.fastq.gz']"
      ]
     },
     "execution_count": 15,
     "metadata": {},
     "output_type": "execute_result"
    }
   ],
   "source": [
    "list_fastq"
   ]
  },
  {
   "cell_type": "code",
   "execution_count": 17,
   "id": "15c53936-b334-46c5-a638-d4fa89a11bb3",
   "metadata": {},
   "outputs": [
    {
     "data": {
      "text/plain": [
       "['dec-OOF-1',\n",
       " 'dec-OOF-2',\n",
       " 'dec-OOF-3',\n",
       " 'dec-OOF-4',\n",
       " 'dec-OOF-5',\n",
       " 'dec-OOF-7',\n",
       " 'dec-OOF-8',\n",
       " 'dec-OOF-9']"
      ]
     },
     "execution_count": 17,
     "metadata": {},
     "output_type": "execute_result"
    }
   ],
   "source": [
    "names"
   ]
  },
  {
   "cell_type": "code",
   "execution_count": 18,
   "id": "50bdfa82-a8be-427a-913e-1812e87ef17a",
   "metadata": {},
   "outputs": [],
   "source": [
    "#--Including results into dataframe\n",
    "df = pd.DataFrame({'names':names, 'fastq_r1':list_fastq})\n",
    "df\n",
    "\n",
    "#--saving the file\n",
    "df_final = df\n",
    "df_final.to_csv(path_file, sep=\"\\t\", index=False)"
   ]
  },
  {
   "cell_type": "code",
   "execution_count": 7,
   "id": "b1d64fd1-7365-43b6-919c-9b35dbf97b47",
   "metadata": {},
   "outputs": [
    {
     "name": "stdout",
     "output_type": "stream",
     "text": [
      "Prime Editing Bash script generated at: run_crispresso_prime.sh\n"
     ]
    }
   ],
   "source": [
    "# generate_crispresso_prime_editing.py\n",
    "\n",
    "def generate_crispresso_prime_editing_script(output_path, params):\n",
    "    \"\"\"\n",
    "    Generates a bash script for a CRISPRessoBatch run tailored to Prime Editing experiments.\n",
    "    \n",
    "    :param output_path: Path to save the bash script (e.g. \"./run_crispresso_prime.sh\")\n",
    "    :param params: Dictionary of CRISPRessoBatch parameters\n",
    "    \"\"\"\n",
    "    with open(output_path, \"w\") as f:\n",
    "        f.write(\"#!/bin/bash\\n\\n\")\n",
    "        f.write(\"# Auto-generated script to run CRISPRessoBatch for Prime Editing\\n\")\n",
    "        f.write(\"CRISPRessoBatch \\\\\\n\")\n",
    "        \n",
    "        for key, value in params.items():\n",
    "            f.write(f\"    --{key} \\\"{value}\\\" \\\\\\n\")\n",
    "        \n",
    "        f.write(\"\\n\")\n",
    "    \n",
    "    print(f\"Prime Editing Bash script generated at: {output_path}\")\n",
    "\n",
    "\n",
    "# Example usage\n",
    "if __name__ == \"__main__\":\n",
    "    parameters = {\n",
    "        \"batch_settings\": \"/Users/leandro/Desktop/github/NGS-data/dec-OOF/round2/merged\", # Include input-file path\n",
    "        \"output_folder\": \"/Users/leandro/Desktop/github/NGS-data/dec-OOF/merged\", # Include output bash file path\n",
    "        \"amplicon_seq\": \"GAAACGCCCATGCAATTAGTCTATTTCTGCTGCAAGTAAGCATGCATTTGTAGGCTTGATGCTTTTTTTCTGCTTCTCCAGCCCTGGCCTGGGTCAATCCTTGGGGCCCAGACTGAGCACGTGATGGCAGAGGAAAGGAAGCCCTGCTTCCTCCAGAGGGCGTCGCAGGACAGCTTTTCCTAGACAGGGGCTAGTATGTGCAGCTCCTGCACCGGGATACTGGTTGACAAGTTTGGCTGGGCTGGAAGCCAGCACCTAGGGAGGTCCCTGGAAGGGGCCAGCCTCACCAGGAGAGGAGGGACCTGGCCCTTCAGGGTCGAGCTCA\",\n",
    "        \"prime_editing_override_prime_edited_ref_seq\": \"GAAACGCCCATGCAATTAGTCTATTTCTGCTGCAAGTAAGCATGCATTTGTAGGCTTGATGCTTTTTTTCTGCTTCTCCAGCCCTGGCCTGGGTCAATCCTTGGGGCCCAGACTGAGCACGcttgTGATGGCAGAGGAAAGGAAGCCCTGCTTCCTCCAGAGGGCGTCGCAGGACAGCTTTTCCTAGACAGGGGCTAGTATGTGCAGCTCCTGCACCGGGATACTGGTTGACAAGTTTG\", # edited sequence\n",
    "        \"prime_editing_pegRNA_spacer_seq\": \"GGCCCAGACTGAGCACGTGA\", #pegRNA spacer\n",
    "        \"prime_editing_pegRNA_extension_seq\": \"TCTGCCATCAcaagCGTGCTCAGTCTG\",  # pegRNA extension\n",
    "        \"prime_editing_pegRNA_scaffold_seq\": \"GTTTTAGAGCTAGGCCAACATGAGGATCACCCATGTCTGCAGGGCCTAGCAAGTTAAAATAAGGCTAGTCCGTTATCACGCCGAAAGGCGGGCACCGAGTCGGTGC\",  # scaffold\n",
    "        \"quantification_window_center\": \"-1\",  # Often shifted for prime editing\n",
    "        \"quantification_window_size\": \"5\",\n",
    "    }\n",
    "\n",
    "    generate_crispresso_prime_editing_script(\"run_crispresso_prime.sh\", parameters)\n"
   ]
  }
 ],
 "metadata": {
  "kernelspec": {
   "display_name": "Python 3 (ipykernel)",
   "language": "python",
   "name": "python3"
  },
  "language_info": {
   "codemirror_mode": {
    "name": "ipython",
    "version": 3
   },
   "file_extension": ".py",
   "mimetype": "text/x-python",
   "name": "python",
   "nbconvert_exporter": "python",
   "pygments_lexer": "ipython3",
   "version": "3.12.2"
  }
 },
 "nbformat": 4,
 "nbformat_minor": 5
}
