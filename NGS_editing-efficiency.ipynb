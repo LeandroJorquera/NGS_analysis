{
 "cells": [
  {
   "cell_type": "code",
   "execution_count": 6,
   "id": "54b8ec1a",
   "metadata": {},
   "outputs": [],
   "source": [
    "import os\n",
    "import re\n",
    "from pathlib import Path\n",
    "import pandas as pd\n",
    "import gzip"
   ]
  },
  {
   "cell_type": "code",
   "execution_count": 16,
   "id": "60aaf6de",
   "metadata": {},
   "outputs": [
    {
     "name": "stdout",
     "output_type": "stream",
     "text": [
      " Background signal (from control): 0\n"
     ]
    }
   ],
   "source": [
    "# Path to your merged FASTQ files\n",
    "path = Path(\"/Users/leandro/Desktop/github/NGS-data/SeV-ORF1_040725/merged\")\n",
    "control_filename = \"RTtest6-c1_S1_L001.merged.fastq.gz\"\n",
    "control_path = path / control_filename\n",
    "\n",
    "# Patterns to be searched for\n",
    "pattern_wt = re.compile(r\"ccaggagaacttccccaatctagcaaggca\", re.IGNORECASE)   # ORF1RP\n",
    "pattern_edit = re.compile(r\"gagaacttccccaaCTTAtctagc\", re.IGNORECASE) # ORF1RP\n",
    "#pattern_edit = re.compile(r\"gagcACGGCAGAgCTTGg\", re.IGNORECASE)\n",
    "#patter_wt_INF = re.compile(r\"gagcACGGCAGAggaaag\", re.IGNORECASE)\n",
    "\n",
    "def count_matches(file_path, pattern):\n",
    "    count = 0\n",
    "    # Automatically detect gzipped files\n",
    "    open_func = gzip.open if str(file_path).endswith(\".gz\") else open\n",
    "\n",
    "    with open_func(file_path, 'rt') as f:  # 'rt' = read text mode\n",
    "        for i, line in enumerate(f):\n",
    "            if i % 4 == 1:  # sequence line in FASTQ\n",
    "                count += len(pattern.findall(line))\n",
    "    return count\n",
    "\n",
    "# Count spontaneous background signal from control sample\n",
    "if not control_path.exists():\n",
    "    raise FileNotFoundError(f\"Control sample not found at: {control_path}\")\n",
    "\n",
    "spont = count_matches(control_path, pattern_edit)\n",
    "print(f\" Background signal (from control): {spont}\")\n",
    "\n",
    "# Analyze all .merged.fastq files\n",
    "results = []\n",
    "for fastq_path in sorted(path.glob(\"*.merged.fastq.gz\")):\n",
    "    sample = fastq_path.name\n",
    "    total_reads = 0\n",
    "    edited_reads = 0\n",
    "\n",
    "    with gzip.open(fastq_path, 'rt') as f:  # correct model 'rt' for startswith to accept strings!\n",
    "        for i, line in enumerate(f):\n",
    "            if i % 4 == 0 and line.startswith(\"@\"):\n",
    "                total_reads += 1\n",
    "            elif i % 4 == 1:  # sequence line\n",
    "                edited_reads += len(pattern_edit.findall(line))\n",
    "\n",
    "    if total_reads > 0:\n",
    "        efficiency = round(((edited_reads - spont) / total_reads) * 100, 3)\n",
    "    else:\n",
    "        efficiency = None\n",
    "\n",
    "    results.append({\n",
    "        \"Sample\": sample,\n",
    "        \"Total_Reads\": total_reads,\n",
    "        \"Edited_Reads\": edited_reads,\n",
    "        \"Efficiency(%)\": efficiency\n",
    "    })"
   ]
  },
  {
   "cell_type": "code",
   "execution_count": 17,
   "id": "0f3de8ea",
   "metadata": {},
   "outputs": [
    {
     "name": "stdout",
     "output_type": "stream",
     "text": [
      "✅ Results exported to: /Users/leandro/Desktop/github/NGS-data/SeV-ORF1_040725/merged/editing_output.csv\n"
     ]
    }
   ],
   "source": [
    "# Convert to DataFrame\n",
    "df = pd.DataFrame(results)\n",
    "df = df.sort_values(by=\"Efficiency(%)\", ascending=False)\n",
    "\n",
    "# Show DataFrame in notebook\n",
    "df.head()\n",
    "\n",
    "# Export as CSV\n",
    "output_csv = path / \"editing_output.csv\"\n",
    "df.to_csv(output_csv, index=False)\n",
    "\n",
    "print(f\"✅ Results exported to: {output_csv}\")"
   ]
  }
 ],
 "metadata": {
  "kernelspec": {
   "display_name": "Python 3 (ipykernel)",
   "language": "python",
   "name": "python3"
  },
  "language_info": {
   "codemirror_mode": {
    "name": "ipython",
    "version": 3
   },
   "file_extension": ".py",
   "mimetype": "text/x-python",
   "name": "python",
   "nbconvert_exporter": "python",
   "pygments_lexer": "ipython3",
   "version": "3.12.2"
  }
 },
 "nbformat": 4,
 "nbformat_minor": 5
}
