{
 "cells": [
  {
   "cell_type": "markdown",
   "id": "cb853b66",
   "metadata": {},
   "source": []
  },
  {
   "cell_type": "code",
   "execution_count": 1,
   "id": "54b8ec1a",
   "metadata": {},
   "outputs": [],
   "source": [
    "import os\n",
    "import re\n",
    "from pathlib import Path\n",
    "import pandas as pd"
   ]
  },
  {
   "cell_type": "code",
   "execution_count": 11,
   "id": "60aaf6de",
   "metadata": {},
   "outputs": [
    {
     "name": "stdout",
     "output_type": "stream",
     "text": [
      " Background signal (from control): 0\n"
     ]
    }
   ],
   "source": [
    "# Path to your merged FASTQ files\n",
    "path = Path(\"/Users/leandrojorqueravalero/Desktop/PhD/Miseq/RT_test-v2/feb-INF/merged\")\n",
    "control_filename = \"feb-control_S24_L001.assembled.fastq\"\n",
    "control_path = path / control_filename\n",
    "\n",
    "# Patterns to be searched for\n",
    "#pattern_wt_OOF = re.compile(r\"gagcACGTGATGGCAGAg\", re.IGNORECASE)\n",
    "#pattern_edit_OOF = re.compile(r\"gagcACGcttgTGATGGCAGAg\", re.IGNORECASE)\n",
    "pattern_edit = re.compile(r\"gagcACGGCAGAgCTTGg\", re.IGNORECASE)\n",
    "#patter_wt_INF = re.compile(r\"gagcACGGCAGAggaaag\", re.IGNORECASE)\n",
    "\n",
    "# Function to count pattern matches in sequence lines only (line 2 in each FASTQ entry)\n",
    "def count_matches(file_path, pattern):\n",
    "    count = 0\n",
    "    with open(file_path, 'r') as f:\n",
    "        for i, line in enumerate(f):\n",
    "            if i % 4 == 1:  # sequence line\n",
    "                count += len(pattern.findall(line))\n",
    "    return count\n",
    "\n",
    "# Count spontaneous background signal from control sample\n",
    "if not control_path.exists():\n",
    "    raise FileNotFoundError(f\"Control sample not found at: {control_path}\")\n",
    "\n",
    "spont = count_matches(control_path, pattern_edit)\n",
    "print(f\" Background signal (from control): {spont}\")\n",
    "\n",
    "# Analyze all .assembled.fastq files\n",
    "results = []\n",
    "for fastq_path in sorted(path.glob(\"*.assembled.fastq\")):\n",
    "    sample = fastq_path.name\n",
    "    total_reads = 0\n",
    "    edited_reads = 0\n",
    "\n",
    "    with open(fastq_path, 'r') as f:\n",
    "        for i, line in enumerate(f):\n",
    "            if i % 4 == 0 and line.startswith(\"@\"):\n",
    "                total_reads += 1\n",
    "            elif i % 4 == 1:  # sequence line\n",
    "                edited_reads += len(pattern_edit.findall(line))\n",
    "\n",
    "    if total_reads > 0:\n",
    "        efficiency = round(((edited_reads - spont) / total_reads) * 100, 3)\n",
    "    else:\n",
    "        efficiency = None\n",
    "\n",
    "    results.append({\n",
    "        \"Sample\": sample,\n",
    "        \"Total_Reads\": total_reads,\n",
    "        \"Edited_Reads\": edited_reads,\n",
    "        \"Efficiency(%)\": efficiency\n",
    "    })"
   ]
  },
  {
   "cell_type": "code",
   "execution_count": 12,
   "id": "0f3de8ea",
   "metadata": {},
   "outputs": [
    {
     "name": "stdout",
     "output_type": "stream",
     "text": [
      "✅ Results exported to: /Users/leandrojorqueravalero/Desktop/PhD/Miseq/RT_test-v2/feb-INF/merged/editing_output.csv\n"
     ]
    }
   ],
   "source": [
    "# Convert to DataFrame\n",
    "df = pd.DataFrame(results)\n",
    "df = df.sort_values(by=\"Efficiency(%)\", ascending=False)\n",
    "\n",
    "# Show DataFrame in notebook\n",
    "df.head()\n",
    "\n",
    "# Export as CSV\n",
    "output_csv = path / \"editing_output.csv\"\n",
    "df.to_csv(output_csv, index=False)\n",
    "\n",
    "print(f\"✅ Results exported to: {output_csv}\")"
   ]
  }
 ],
 "metadata": {
  "kernelspec": {
   "display_name": "Python 3 (ipykernel)",
   "language": "python",
   "name": "python3"
  },
  "language_info": {
   "codemirror_mode": {
    "name": "ipython",
    "version": 3
   },
   "file_extension": ".py",
   "mimetype": "text/x-python",
   "name": "python",
   "nbconvert_exporter": "python",
   "pygments_lexer": "ipython3",
   "version": "3.9.5"
  }
 },
 "nbformat": 4,
 "nbformat_minor": 5
}
