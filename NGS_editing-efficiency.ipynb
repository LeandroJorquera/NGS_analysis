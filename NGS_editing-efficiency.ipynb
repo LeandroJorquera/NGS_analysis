{
 "cells": [
  {
   "cell_type": "code",
   "execution_count": 1,
   "id": "54b8ec1a",
   "metadata": {},
   "outputs": [],
   "source": [
    "import os\n",
    "import re\n",
    "from pathlib import Path\n",
    "import pandas as pd"
   ]
  },
  {
   "cell_type": "code",
   "execution_count": 4,
   "id": "60aaf6de",
   "metadata": {},
   "outputs": [
    {
     "ename": "UnicodeDecodeError",
     "evalue": "'utf-8' codec can't decode byte 0x8b in position 1: invalid start byte",
     "output_type": "error",
     "traceback": [
      "\u001b[0;31m---------------------------------------------------------------------------\u001b[0m",
      "\u001b[0;31mUnicodeDecodeError\u001b[0m                        Traceback (most recent call last)",
      "Cell \u001b[0;32mIn[4], line 25\u001b[0m\n\u001b[1;32m     22\u001b[0m \u001b[38;5;28;01mif\u001b[39;00m \u001b[38;5;129;01mnot\u001b[39;00m control_path\u001b[38;5;241m.\u001b[39mexists():\n\u001b[1;32m     23\u001b[0m     \u001b[38;5;28;01mraise\u001b[39;00m \u001b[38;5;167;01mFileNotFoundError\u001b[39;00m(\u001b[38;5;124mf\u001b[39m\u001b[38;5;124m\"\u001b[39m\u001b[38;5;124mControl sample not found at: \u001b[39m\u001b[38;5;132;01m{\u001b[39;00mcontrol_path\u001b[38;5;132;01m}\u001b[39;00m\u001b[38;5;124m\"\u001b[39m)\n\u001b[0;32m---> 25\u001b[0m spont \u001b[38;5;241m=\u001b[39m \u001b[43mcount_matches\u001b[49m\u001b[43m(\u001b[49m\u001b[43mcontrol_path\u001b[49m\u001b[43m,\u001b[49m\u001b[43m \u001b[49m\u001b[43mpattern_edit_OOF\u001b[49m\u001b[43m)\u001b[49m\n\u001b[1;32m     26\u001b[0m \u001b[38;5;28mprint\u001b[39m(\u001b[38;5;124mf\u001b[39m\u001b[38;5;124m\"\u001b[39m\u001b[38;5;124m Background signal (from control): \u001b[39m\u001b[38;5;132;01m{\u001b[39;00mspont\u001b[38;5;132;01m}\u001b[39;00m\u001b[38;5;124m\"\u001b[39m)\n\u001b[1;32m     28\u001b[0m \u001b[38;5;66;03m# Analyze all .assembled.fastq files\u001b[39;00m\n",
      "Cell \u001b[0;32mIn[4], line 16\u001b[0m, in \u001b[0;36mcount_matches\u001b[0;34m(file_path, pattern)\u001b[0m\n\u001b[1;32m     14\u001b[0m count \u001b[38;5;241m=\u001b[39m \u001b[38;5;241m0\u001b[39m\n\u001b[1;32m     15\u001b[0m \u001b[38;5;28;01mwith\u001b[39;00m \u001b[38;5;28mopen\u001b[39m(file_path, \u001b[38;5;124m'\u001b[39m\u001b[38;5;124mr\u001b[39m\u001b[38;5;124m'\u001b[39m) \u001b[38;5;28;01mas\u001b[39;00m f:\n\u001b[0;32m---> 16\u001b[0m \u001b[43m    \u001b[49m\u001b[38;5;28;43;01mfor\u001b[39;49;00m\u001b[43m \u001b[49m\u001b[43mi\u001b[49m\u001b[43m,\u001b[49m\u001b[43m \u001b[49m\u001b[43mline\u001b[49m\u001b[43m \u001b[49m\u001b[38;5;129;43;01min\u001b[39;49;00m\u001b[43m \u001b[49m\u001b[38;5;28;43menumerate\u001b[39;49m\u001b[43m(\u001b[49m\u001b[43mf\u001b[49m\u001b[43m)\u001b[49m\u001b[43m:\u001b[49m\n\u001b[1;32m     17\u001b[0m \u001b[43m        \u001b[49m\u001b[38;5;28;43;01mif\u001b[39;49;00m\u001b[43m \u001b[49m\u001b[43mi\u001b[49m\u001b[43m \u001b[49m\u001b[38;5;241;43m%\u001b[39;49m\u001b[43m \u001b[49m\u001b[38;5;241;43m4\u001b[39;49m\u001b[43m \u001b[49m\u001b[38;5;241;43m==\u001b[39;49m\u001b[43m \u001b[49m\u001b[38;5;241;43m1\u001b[39;49m\u001b[43m:\u001b[49m\u001b[43m  \u001b[49m\u001b[38;5;66;43;03m# sequence line\u001b[39;49;00m\n\u001b[1;32m     18\u001b[0m \u001b[43m            \u001b[49m\u001b[43mcount\u001b[49m\u001b[43m \u001b[49m\u001b[38;5;241;43m+\u001b[39;49m\u001b[38;5;241;43m=\u001b[39;49m\u001b[43m \u001b[49m\u001b[38;5;28;43mlen\u001b[39;49m\u001b[43m(\u001b[49m\u001b[43mpattern\u001b[49m\u001b[38;5;241;43m.\u001b[39;49m\u001b[43mfindall\u001b[49m\u001b[43m(\u001b[49m\u001b[43mline\u001b[49m\u001b[43m)\u001b[49m\u001b[43m)\u001b[49m\n",
      "File \u001b[0;32m<frozen codecs>:322\u001b[0m, in \u001b[0;36mdecode\u001b[0;34m(self, input, final)\u001b[0m\n",
      "\u001b[0;31mUnicodeDecodeError\u001b[0m: 'utf-8' codec can't decode byte 0x8b in position 1: invalid start byte"
     ]
    }
   ],
   "source": [
    "# Path to your merged FASTQ files\n",
    "path = Path(\"/Users/leandro/Desktop/github/NGS-data/feb-OOF/round2/merged\")\n",
    "control_filename = \"feb-OOF-1_S9_L001.merged.fastq.gz\"\n",
    "control_path = path / control_filename\n",
    "\n",
    "# Patterns to be searched for\n",
    "pattern_wt_OOF = re.compile(r\"gagcACGTGATGGCAGAg\", re.IGNORECASE)\n",
    "pattern_edit_OOF = re.compile(r\"gagcACGcttgTGATGGCAGAg\", re.IGNORECASE)\n",
    "#pattern_edit = re.compile(r\"gagcACGGCAGAgCTTGg\", re.IGNORECASE)\n",
    "#patter_wt_INF = re.compile(r\"gagcACGGCAGAggaaag\", re.IGNORECASE)\n",
    "\n",
    "# Function to count pattern matches in sequence lines only (line 2 in each FASTQ entry)\n",
    "def count_matches(file_path, pattern):\n",
    "    count = 0\n",
    "    with open(file_path, 'r') as f:\n",
    "        for i, line in enumerate(f):\n",
    "            if i % 4 == 1:  # sequence line\n",
    "                count += len(pattern.findall(line))\n",
    "    return count\n",
    "\n",
    "# Count spontaneous background signal from control sample\n",
    "if not control_path.exists():\n",
    "    raise FileNotFoundError(f\"Control sample not found at: {control_path}\")\n",
    "\n",
    "spont = count_matches(control_path, pattern_edit_OOF)\n",
    "print(f\" Background signal (from control): {spont}\")\n",
    "\n",
    "# Analyze all .assembled.fastq files\n",
    "results = []\n",
    "for fastq_path in sorted(path.glob(\"*.merged.fastq.gz\")):\n",
    "    sample = fastq_path.name\n",
    "    total_reads = 0\n",
    "    edited_reads = 0\n",
    "\n",
    "    with open(fastq_path, 'r') as f:\n",
    "        for i, line in enumerate(f):\n",
    "            if i % 4 == 0 and line.startswith(\"@\"):\n",
    "                total_reads += 1\n",
    "            elif i % 4 == 1:  # sequence line\n",
    "                edited_reads += len(pattern_edit_OOF.findall(line))\n",
    "\n",
    "    if total_reads > 0:\n",
    "        efficiency = round(((edited_reads - spont) / total_reads) * 100, 3)\n",
    "    else:\n",
    "        efficiency = None\n",
    "\n",
    "    results.append({\n",
    "        \"Sample\": sample,\n",
    "        \"Total_Reads\": total_reads,\n",
    "        \"Edited_Reads\": edited_reads,\n",
    "        \"Efficiency(%)\": efficiency\n",
    "    })"
   ]
  },
  {
   "cell_type": "code",
   "execution_count": 12,
   "id": "0f3de8ea",
   "metadata": {},
   "outputs": [
    {
     "name": "stdout",
     "output_type": "stream",
     "text": [
      "✅ Results exported to: /Users/leandrojorqueravalero/Desktop/PhD/Miseq/RT_test-v2/feb-INF/merged/editing_output.csv\n"
     ]
    }
   ],
   "source": [
    "# Convert to DataFrame\n",
    "df = pd.DataFrame(results)\n",
    "df = df.sort_values(by=\"Efficiency(%)\", ascending=False)\n",
    "\n",
    "# Show DataFrame in notebook\n",
    "df.head()\n",
    "\n",
    "# Export as CSV\n",
    "output_csv = path / \"editing_output.csv\"\n",
    "df.to_csv(output_csv, index=False)\n",
    "\n",
    "print(f\"✅ Results exported to: {output_csv}\")"
   ]
  }
 ],
 "metadata": {
  "kernelspec": {
   "display_name": "Python 3 (ipykernel)",
   "language": "python",
   "name": "python3"
  },
  "language_info": {
   "codemirror_mode": {
    "name": "ipython",
    "version": 3
   },
   "file_extension": ".py",
   "mimetype": "text/x-python",
   "name": "python",
   "nbconvert_exporter": "python",
   "pygments_lexer": "ipython3",
   "version": "3.12.2"
  }
 },
 "nbformat": 4,
 "nbformat_minor": 5
}
