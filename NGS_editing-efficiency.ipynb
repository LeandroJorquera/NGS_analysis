{
 "cells": [
  {
   "cell_type": "code",
   "execution_count": 2,
   "id": "54b8ec1a",
   "metadata": {},
   "outputs": [],
   "source": [
    "import os\n",
    "import re\n",
    "from pathlib import Path\n",
    "import pandas as pd\n",
    "import gzip"
   ]
  },
  {
   "cell_type": "code",
   "execution_count": 18,
   "id": "60aaf6de",
   "metadata": {},
   "outputs": [],
   "source": [
    "# Path to your merged FASTQ files\n",
    "path = Path(\"/Users/leandro/Desktop/github/NGS-data/SeV-ORF1_251003/merged\")\n",
    "control_filename = \"control-index5_S5_L001.merged.fastq.gz\"\n",
    "control_path = path / control_filename\n",
    "\n",
    "# Patterns to be searched for\n",
    "pattern_wt = re.compile(r\"GAGAACTTCCCCAATCTAGCAAGG\", re.IGNORECASE)   # ORF1\n",
    "pattern_edit = re.compile(r\"GAGAACTTCCCCAACTTATCTAGC\", re.IGNORECASE) # ORF1\n",
    "#pattern_wt = re.compile(r\"ACTGAGCACGTGATGGCAGA\", re.IGNORECASE) # HEK3\n",
    "#pattern_edit = re.compile(r\"ACTGAGCACGcttgTGATGGCAGA\", re.IGNORECASE) # HEK3\n",
    "\n",
    "def count_matches(file_path, pattern):\n",
    "    count = 0\n",
    "    # Automatically detect gzipped files\n",
    "    open_func = gzip.open if str(file_path).endswith(\".gz\") else open\n",
    "\n",
    "    with open_func(file_path, 'rt') as f:  # 'rt' = read text mode\n",
    "        for i, line in enumerate(f):\n",
    "            if i % 4 == 1:  # sequence line in FASTQ\n",
    "                count += len(pattern.findall(line))\n",
    "    return count\n",
    "\n",
    "\n",
    "# Analyze all .merged.fastq files\n",
    "results = []\n",
    "\n",
    "for fastq_path in sorted(path.glob(\"*.merged.fastq.gz\")):\n",
    "    sample = fastq_path.name\n",
    "    total_reads = 0\n",
    "    wt_reads = 0\n",
    "    edited_reads = 0\n",
    "\n",
    "    with gzip.open(fastq_path, \"rt\") as f:\n",
    "        for i, line in enumerate(f):\n",
    "            if i % 4 == 0 and line.startswith(\"@\"):\n",
    "                total_reads += 1\n",
    "            elif i % 4 == 1:  # sequence line\n",
    "                seq = line.strip()\n",
    "                if pattern_edit.search(seq):\n",
    "                    edited_reads += 1\n",
    "                elif pattern_wt.search(seq):\n",
    "                    wt_reads += 1\n",
    "\n",
    "    if (edited_reads + wt_reads) > 0:\n",
    "        efficiency = round((edited_reads / (edited_reads + wt_reads)) * 100, 3)\n",
    "    else:\n",
    "        efficiency = None\n",
    "\n",
    "    results.append({\n",
    "        \"sample\": sample,\n",
    "        \"total_reads\": total_reads,\n",
    "        \"edited_reads\": edited_reads,\n",
    "        \"wt_reads\": wt_reads,\n",
    "        \"Efficiency\": efficiency\n",
    "    })"
   ]
  },
  {
   "cell_type": "code",
   "execution_count": 19,
   "id": "0f3de8ea",
   "metadata": {},
   "outputs": [
    {
     "name": "stdout",
     "output_type": "stream",
     "text": [
      "✅ Results exported to: /Users/leandro/Desktop/github/NGS-data/SeV-ORF1_251003/merged/editing_output.csv\n"
     ]
    }
   ],
   "source": [
    "# Convert to DataFrame\n",
    "df = pd.DataFrame(results)\n",
    "df = df.sort_values(by=\"Efficiency\", ascending=False)\n",
    "\n",
    "# Show DataFrame in notebook\n",
    "df.head()\n",
    "\n",
    "# Export as CSV\n",
    "output_csv = path / \"editing_output.csv\"\n",
    "df.to_csv(output_csv, index=False)\n",
    "\n",
    "print(f\"✅ Results exported to: {output_csv}\")"
   ]
  }
 ],
 "metadata": {
  "kernelspec": {
   "display_name": "Python 3 (ipykernel)",
   "language": "python",
   "name": "python3"
  },
  "language_info": {
   "codemirror_mode": {
    "name": "ipython",
    "version": 3
   },
   "file_extension": ".py",
   "mimetype": "text/x-python",
   "name": "python",
   "nbconvert_exporter": "python",
   "pygments_lexer": "ipython3",
   "version": "3.12.2"
  }
 },
 "nbformat": 4,
 "nbformat_minor": 5
}
